{
 "cells": [
  {
   "cell_type": "code",
   "execution_count": null,
   "metadata": {},
   "outputs": [
    {
     "ename": "",
     "evalue": "",
     "output_type": "error",
     "traceback": [
      "\u001b[1;31mRunning cells with 'Python 3.13.0' requires the ipykernel package.\n",
      "\u001b[1;31mRun the following command to install 'ipykernel' into the Python environment. \n",
      "\u001b[1;31mCommand: 'c:/Users/CheeyChimkn/AppData/Local/Programs/Python/Python313/python.exe -m pip install ipykernel -U --user --force-reinstall'"
     ]
    }
   ],
   "source": [
    "import numpy as np"
   ]
  },
  {
   "cell_type": "markdown",
   "metadata": {},
   "source": [
    "TASKS = https://docs.google.com/document/d/1hjovD_DqEVydcVfr_TwFYbCUNnsHMqy0/edit"
   ]
  },
  {
   "cell_type": "code",
   "execution_count": null,
   "metadata": {},
   "outputs": [],
   "source": [
    "#task1 \n",
    "\n",
    "def merge_sort(arr):  #divide part\n",
    "    if len(arr)<=1:\n",
    "        return arr\n",
    "    \n",
    "    mid = len(arr)//2\n",
    "\n",
    "    left_part = arr[:mid]\n",
    "    right_part = arr[mid:]\n",
    "\n",
    "    sorted_left = merge_sort(left_part)\n",
    "    sorted_right = merge_sort(right_part)\n",
    "\n",
    "    return conquer_part(sorted_left, sorted_right)\n",
    "\n",
    "\n",
    "def conquer_part(arr1, arr2):\n",
    "    i = 0\n",
    "    j = 0\n",
    "    merged_sorted_list = []\n",
    "    while i < len(arr1) and j < len(arr2):\n",
    "        if arr1[i] > arr2[j]:\n",
    "            merged_sorted_list.append(arr2[j])\n",
    "            j += 1\n",
    "        else:\n",
    "            merged_sorted_list.append(arr1[i])\n",
    "            i += 1\n",
    "\n",
    "    while i < len(arr1):\n",
    "        merged_sorted_list.append(arr1[i])\n",
    "        i += 1\n",
    "\n",
    "    while j < len(arr2):\n",
    "        merged_sorted_list.append(arr2[j])\n",
    "        j += 1\n",
    "\n",
    "    return merged_sorted_list\n",
    "\n",
    "    "
   ]
  },
  {
   "cell_type": "code",
   "execution_count": 10,
   "metadata": {},
   "outputs": [
    {
     "name": "stdout",
     "output_type": "stream",
     "text": [
      "15\n"
     ]
    }
   ],
   "source": [
    "#task2 \n",
    "def max_element(arr):\n",
    "    if len(arr) <= 1:\n",
    "        return arr[0]\n",
    "    \n",
    "    mid = len(arr)//2\n",
    "\n",
    "    left = arr[:mid]\n",
    "    right = arr[mid:]\n",
    "\n",
    "    left_highest = max_element(left)\n",
    "    right_highest = max_element(right)\n",
    "\n",
    "\n",
    "    if left_highest > right_highest:\n",
    "        return left_highest\n",
    "    else:\n",
    "        return right_highest\n",
    "\n",
    "\n",
    "print(max_element([5, 15, 2, 3, 10, 1, 9]))\n",
    " "
   ]
  }
 ],
 "metadata": {
  "kernelspec": {
   "display_name": "Python 3",
   "language": "python",
   "name": "python3"
  },
  "language_info": {
   "codemirror_mode": {
    "name": "ipython",
    "version": 3
   },
   "file_extension": ".py",
   "mimetype": "text/x-python",
   "name": "python",
   "nbconvert_exporter": "python",
   "pygments_lexer": "ipython3",
   "version": "3.13.0"
  }
 },
 "nbformat": 4,
 "nbformat_minor": 2
}
