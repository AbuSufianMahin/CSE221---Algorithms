{
 "cells": [
  {
   "cell_type": "markdown",
   "metadata": {},
   "source": [
    "**QUIZ 1**"
   ]
  },
  {
   "cell_type": "code",
   "execution_count": 7,
   "metadata": {},
   "outputs": [
    {
     "name": "stdout",
     "output_type": "stream",
     "text": [
      "Transition starts at index 3 with the value of 2\n"
     ]
    }
   ],
   "source": [
    "#set a\n",
    "\n",
    "arr = [9, 12, 15, 2, 4, 5, 7, 8]\n",
    "\n",
    "l = 0\n",
    "r = len(arr) - 1\n",
    "index = 0\n",
    "elem = 0 \n",
    "while l <= r:   #why do we need ==?\n",
    "    mid = (l+r)//2\n",
    "    if arr[mid+1] < arr[mid]: #found the transition point\n",
    "        index = mid + 1     #where transition starts part starts\n",
    "        elem = arr[index]\n",
    "         \n",
    "        break\n",
    "    elif arr[mid+1] < arr[0]: #i am in the transition list\n",
    "        r = mid - 1\n",
    "    elif arr[mid+1] > arr[0]:\n",
    "        l = mid + 1\n",
    "\n",
    "         \n",
    "\n",
    "print(f\"Transition starts at index {index} with the value of {elem}\")\n"
   ]
  },
  {
   "cell_type": "code",
   "execution_count": 1,
   "metadata": {},
   "outputs": [
    {
     "ename": "KeyboardInterrupt",
     "evalue": "",
     "output_type": "error",
     "traceback": [
      "\u001b[1;31m---------------------------------------------------------------------------\u001b[0m",
      "\u001b[1;31mKeyboardInterrupt\u001b[0m                         Traceback (most recent call last)",
      "Cell \u001b[1;32mIn[1], line 9\u001b[0m\n\u001b[0;32m      6\u001b[0m index \u001b[38;5;241m=\u001b[39m \u001b[38;5;241m0\u001b[39m\n\u001b[0;32m      7\u001b[0m elem \u001b[38;5;241m=\u001b[39m \u001b[38;5;241m0\u001b[39m\n\u001b[1;32m----> 9\u001b[0m \u001b[38;5;28;01mwhile\u001b[39;00m l \u001b[38;5;241m<\u001b[39m\u001b[38;5;241m=\u001b[39m r:\n\u001b[0;32m     10\u001b[0m     mid \u001b[38;5;241m=\u001b[39m (l\u001b[38;5;241m+\u001b[39mr) \u001b[38;5;241m/\u001b[39m\u001b[38;5;241m/\u001b[39m \u001b[38;5;241m2\u001b[39m\n\u001b[0;32m     12\u001b[0m     \u001b[38;5;28;01mif\u001b[39;00m arr[mid\u001b[38;5;241m-\u001b[39m\u001b[38;5;241m1\u001b[39m] \u001b[38;5;241m<\u001b[39m arr[mid] \u001b[38;5;129;01mand\u001b[39;00m arr[mid]\u001b[38;5;241m>\u001b[39m arr[mid\u001b[38;5;241m+\u001b[39m\u001b[38;5;241m1\u001b[39m]: \u001b[38;5;66;03m#neighboring element\u001b[39;00m\n",
      "\u001b[1;31mKeyboardInterrupt\u001b[0m: "
     ]
    }
   ],
   "source": [
    "#set - B\n",
    "arr = [1, 3, 4, 5, 9, 6, 2, -1]\n",
    "l = 0\n",
    "r = len(arr) - 1\n",
    "\n",
    "index = 0\n",
    "elem = 0\n",
    "\n",
    "while l <= r:\n",
    "    mid = (l+r) // 2\n",
    "\n",
    "    if arr[mid-1] < arr[mid] and arr[mid]> arr[mid+1]: #neighboring element\n",
    "        index = mid \n",
    "        elem = arr[mid]\n",
    "        break\n",
    "    \n",
    "    elif arr[mid] < arr[mid+1]: #didn't reach transition part\n",
    "        l = mid + 1\n",
    "    \n",
    "    elif arr[mid] > arr[mid]:\n",
    "        r = mid - 1\n",
    "\n",
    "print(f\"Transition starts at index {index} with the value of {elem}\")"
   ]
  }
 ],
 "metadata": {
  "kernelspec": {
   "display_name": "a_venv",
   "language": "python",
   "name": "python3"
  },
  "language_info": {
   "codemirror_mode": {
    "name": "ipython",
    "version": 3
   },
   "file_extension": ".py",
   "mimetype": "text/x-python",
   "name": "python",
   "nbconvert_exporter": "python",
   "pygments_lexer": "ipython3",
   "version": "3.13.0"
  }
 },
 "nbformat": 4,
 "nbformat_minor": 2
}
